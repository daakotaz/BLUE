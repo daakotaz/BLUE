{
  "nbformat": 4,
  "nbformat_minor": 0,
  "metadata": {
    "colab": {
      "name": "Protejo Detetive 🕵️",
      "provenance": [],
      "authorship_tag": "ABX9TyOCryLKePrtVNrXwN8jBPZ3",
      "include_colab_link": true
    },
    "kernelspec": {
      "name": "python3",
      "display_name": "Python 3"
    },
    "language_info": {
      "name": "python"
    }
  },
  "cells": [
    {
      "cell_type": "markdown",
      "metadata": {
        "id": "view-in-github",
        "colab_type": "text"
      },
      "source": [
        "<a href=\"https://colab.research.google.com/github/daakotaz/BLUE/blob/main/Protejo_Detetive_%F0%9F%95%B5%EF%B8%8F.ipynb\" target=\"_parent\"><img src=\"https://colab.research.google.com/assets/colab-badge.svg\" alt=\"Open In Colab\"/></a>"
      ]
    },
    {
      "cell_type": "code",
      "metadata": {
        "id": "Q6hXOxL5jolQ",
        "colab": {
          "base_uri": "https://localhost:8080/"
        },
        "outputId": "ffe9357b-1290-4da6-eeb5-e63f0f9571be"
      },
      "source": [
        "n  = 0\n",
        "\n",
        "pergunta1 = input(\"Você telefonou para a vítima? \").lower()\n",
        "if pergunta1 ==  \"sim\":\n",
        "  n += 1\n",
        "elif pergunta1 == \"não\":\n",
        "  n -= 1\n",
        "pergunta2 = input(\"Você esteve no local do crime? \").lower()\n",
        "if pergunta2 == \"sim\":\n",
        "  n += 1\n",
        "elif pergunta2 == \"não\":\n",
        "  n -= 1 \n",
        "pergunta3 = input(\"Você mora perto da vítima? \").lower()  \n",
        "if pergunta3 == \"sim\":\n",
        "  n += 1\n",
        "elif pergunta3 == \"não\":\n",
        "  n -= 1\n",
        "pergunta4 = input(\"Você devia para vítima? \").lower()  \n",
        "if pergunta4 == \"sim\":\n",
        "  n += 1\n",
        "elif pergunta4 == \"não\":\n",
        "  n -= 1\n",
        "pergunta5 = input(\"Você já trabalhou com a vítima? \").lower()  \n",
        "if pergunta5 == \"sim\":\n",
        "  n += 1\n",
        "elif pergunta5 == \"não\":\n",
        "  n -= 1\n",
        "if n == 5:\n",
        "  print(\"Você é o Assassino 🔪\")\n",
        "elif n == 1 or n == 4 or n == 3:\n",
        "  print(\"Você é Cúmplice 👬\")\n",
        "elif n == 0 or n == -1:\n",
        "  print(\"Você é Suspeito 🔎\")\n",
        "elif n <= -2:\n",
        "  print(\"Você é Inocente 🍀 \")\n"
      ],
      "execution_count": null,
      "outputs": [
        {
          "output_type": "stream",
          "text": [
            "Você telefonou para a vítima? não\n",
            "Você esteve no local do crime? não\n",
            "Você mora perto da vítima? sim\n",
            "Você devia para vítima? sim\n",
            "Você já trabalhou com a vítima? sim\n",
            "Você é Cúmplice 👬\n"
          ],
          "name": "stdout"
        }
      ]
    }
  ]
}