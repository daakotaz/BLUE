{
  "nbformat": 4,
  "nbformat_minor": 0,
  "metadata": {
    "colab": {
      "name": "Projeto_Votação👨‍💼.ipynb",
      "provenance": [],
      "authorship_tag": "ABX9TyOpl0eIIne421j4vjZLB+u1",
      "include_colab_link": true
    },
    "kernelspec": {
      "name": "python3",
      "display_name": "Python 3"
    },
    "language_info": {
      "name": "python"
    }
  },
  "cells": [
    {
      "cell_type": "markdown",
      "metadata": {
        "id": "view-in-github",
        "colab_type": "text"
      },
      "source": [
        "<a href=\"https://colab.research.google.com/github/daakotaz/BLUE/blob/main/Projeto_Vota%C3%A7%C3%A3o%F0%9F%91%A8%E2%80%8D%F0%9F%92%BC.ipynb\" target=\"_parent\"><img src=\"https://colab.research.google.com/assets/colab-badge.svg\" alt=\"Open In Colab\"/></a>"
      ]
    },
    {
      "cell_type": "code",
      "metadata": {
        "colab": {
          "base_uri": "https://localhost:8080/"
        },
        "id": "SxdOLn6iNKcD",
        "outputId": "3b288eb5-3dd5-47db-e269-479f67fd9780"
      },
      "source": [
        "import sys\n",
        "\n",
        "def voto(ano):\n",
        "    from datetime import date\n",
        "    atual = date.today().year\n",
        "    idade = atual - ano\n",
        "\n",
        "    if idade < 16:\n",
        "      print(f'Com {idade} anos o voto é NEGADO')\n",
        "      sys.exit(0)\n",
        "    if 16 <= idade < 18 or idade >= 70:\n",
        "       return f'Com {idade} anos o voto é OPCIONAL'\n",
        "    else:\n",
        "       return f'Com {idade} anos o voto é OBRIGATORIO' \n",
        "\n",
        "nasc = int(input(\"digite seu ano de nascimento: \"))\n",
        "print(voto(nasc))\n",
        "print('‗_‗'*30)\n",
        "print('Biroliro (JR) DIGITE 17')\n",
        "print('Haddad Redemption (PT) DIGITE 13')\n",
        "print('MamãeEngordei (DEM) DIGITE 51')\n",
        "print('Voto Nulo DIGITE 0')\n",
        "print('Voto em Branco DIGITE 5')\n",
        "\n",
        "candidato1 = 0\n",
        "candidato2 = 0\n",
        "candidato3 = 0\n",
        "candidato4 = 0\n",
        "candidato5 = 0\n",
        "\n",
        "for c in range(1):\n",
        "    cand = int(input('Digite o numero do candidato: '))\n",
        "if cand == 17:\n",
        "    candidato1 = candidato1 +1\n",
        "elif cand == 13:\n",
        "    candidato2 = candidato2 +1\n",
        "elif cand == 51:\n",
        "    candidato3 = candidato3 +1\n",
        "elif cand == 0:\n",
        "    candidato4 = candidato4 +1\n",
        "elif cand == 5:\n",
        "    candidato5 = candidato5 +1\n",
        "\n",
        "print('_‗_'*30)\n",
        "print('Biroliro (JR) recebeu: ',candidato1, 'votos')\n",
        "print('Haddad Redemption (PT) recebeu: ',candidato2, 'votos')\n",
        "print('MamãeEngordei (DEM) recebeu: ',candidato3, 'votos')\n",
        "print('Voto Nulo recebeu: ',candidato4, 'votos')\n",
        "print('Voto em Brancos recebeu: ',candidato5, 'votos')\n"
      ],
      "execution_count": 57,
      "outputs": [
        {
          "output_type": "stream",
          "text": [
            "digite seu ano de nascimento: 1998\n",
            "Com 23 anos o voto é OBRIGATORIO\n",
            "‗_‗‗_‗‗_‗‗_‗‗_‗‗_‗‗_‗‗_‗‗_‗‗_‗‗_‗‗_‗‗_‗‗_‗‗_‗‗_‗‗_‗‗_‗‗_‗‗_‗‗_‗‗_‗‗_‗‗_‗‗_‗‗_‗‗_‗‗_‗‗_‗‗_‗\n",
            "Biroliro (JR) DIGITE 17\n",
            "Haddad Redemption (PT) DIGITE 13\n",
            "MamãeEngordei (DEM) DIGITE 51\n",
            "Voto Nulo DIGITE 0\n",
            "Voto em Branco DIGITE 5\n",
            "Digite o numero do candidato: 17\n",
            "_‗__‗__‗__‗__‗__‗__‗__‗__‗__‗__‗__‗__‗__‗__‗__‗__‗__‗__‗__‗__‗__‗__‗__‗__‗__‗__‗__‗__‗__‗_\n",
            "Biroliro (JR) recebeu:  1 votos\n",
            "Haddad Redemption (PT) recebeu:  0 votos\n",
            "MamãeEngordei (DEM) recebeu:  0 votos\n",
            "Voto Nulo recebeu:  0 votos\n",
            "Voto em Brancos recebeu:  0 votos\n"
          ],
          "name": "stdout"
        }
      ]
    }
  ]
}