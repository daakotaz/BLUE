{
  "nbformat": 4,
  "nbformat_minor": 0,
  "metadata": {
    "colab": {
      "name": "Mega-Sena.ipynb",
      "provenance": [],
      "authorship_tag": "ABX9TyPh6v2G+341k0ZBBMjK7Xeo",
      "include_colab_link": true
    },
    "kernelspec": {
      "name": "python3",
      "display_name": "Python 3"
    },
    "language_info": {
      "name": "python"
    }
  },
  "cells": [
    {
      "cell_type": "markdown",
      "metadata": {
        "id": "view-in-github",
        "colab_type": "text"
      },
      "source": [
        "<a href=\"https://colab.research.google.com/github/daakotaz/BLUE/blob/main/Mega_Sena.ipynb\" target=\"_parent\"><img src=\"https://colab.research.google.com/assets/colab-badge.svg\" alt=\"Open In Colab\"/></a>"
      ]
    },
    {
      "cell_type": "code",
      "metadata": {
        "colab": {
          "base_uri": "https://localhost:8080/"
        },
        "id": "-BOygciULVKO",
        "outputId": "c553c05a-8fa6-45a6-dc35-842df5a7c415"
      },
      "source": [
        "from random import randint \n",
        "from time import sleep \n",
        "l = list()\n",
        "jogo = list()\n",
        "q = int(input('Quantos jogos você quer? '))\n",
        "\n",
        "for p in range(1,q+1):\n",
        "  cont = 0\n",
        "  while True:  #Gera os numeros\n",
        "    num = randint(1,60)\n",
        "    if  num not in l:\n",
        "      l.append(num)\n",
        "      cont += 1\n",
        "    if cont >=6:\n",
        "      break\n",
        "  l.sort()\n",
        "  jogo.append(l[:])\n",
        "  l.clear()\n",
        "\n",
        "print(f'\\n -- {q} Jogos --')\n",
        "print()\n",
        "\n",
        "for i, p in enumerate(jogo):\n",
        "    print(f'O {i+1}° jogo sorteado foi {p}: ')\n",
        "    sleep(1)"
      ],
      "execution_count": 12,
      "outputs": [
        {
          "output_type": "stream",
          "text": [
            "Quantos jogos você quer? 5\n",
            "\n",
            " -- 5 Jogos --\n",
            "\n",
            "O 1 jogo sorteado foi [15, 19, 25, 34, 37, 44]: \n",
            "O 2 jogo sorteado foi [1, 2, 6, 36, 46, 53]: \n",
            "O 3 jogo sorteado foi [4, 5, 24, 31, 54, 60]: \n",
            "O 4 jogo sorteado foi [22, 30, 40, 44, 47, 53]: \n",
            "O 5 jogo sorteado foi [2, 42, 43, 48, 49, 54]: \n"
          ],
          "name": "stdout"
        }
      ]
    }
  ]
}