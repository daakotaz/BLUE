{
  "nbformat": 4,
  "nbformat_minor": 0,
  "metadata": {
    "colab": {
      "name": "Projeto_Jokenpo.ipynb",
      "provenance": [],
      "authorship_tag": "ABX9TyP//1jE1vzdUYYXUi7iSspm",
      "include_colab_link": true
    },
    "kernelspec": {
      "name": "python3",
      "display_name": "Python 3"
    },
    "language_info": {
      "name": "python"
    }
  },
  "cells": [
    {
      "cell_type": "markdown",
      "metadata": {
        "id": "view-in-github",
        "colab_type": "text"
      },
      "source": [
        "<a href=\"https://colab.research.google.com/github/daakotaz/BLUE/blob/main/Projeto_Jokenpo.ipynb\" target=\"_parent\"><img src=\"https://colab.research.google.com/assets/colab-badge.svg\" alt=\"Open In Colab\"/></a>"
      ]
    },
    {
      "cell_type": "code",
      "metadata": {
        "id": "VDfNP9UnhQUN"
      },
      "source": [
        "# Projeto 🗿, 📜 e ✂️\n",
        "\n",
        "from random import randint # Da biblioteca random importar randint.\n",
        "from time import sleep # Da biblioteca time importar sleep.\n",
        "itens = ('Pedra', 'Papel', 'Tesoura') # Lista com as escolhas.\n",
        "\n",
        "\n",
        "while True:\n",
        "    vitorias = 0 # Contador de vitórias do jogador.\n",
        "    vitorias_computador = 0 # Contador de vitórias do Computador.\n",
        "    for i in range(int(input('Digite quantos jogos vai querer jogar: '))): # Pede para o jogador digitar quantas vezes ele quer jogar.\n",
        "        print('''Suas opções:\n",
        "        [ 0 ] 👊\n",
        "        [ 1 ] 🖐\n",
        "        [ 2 ] ✌\n",
        "        ''')\n",
        "\n",
        "        jogador = int(input('Qual será a sua jogada ? ')) # Pergunta ao jogador o que ele irá escolher.\n",
        "        computador = randint(0, 2) # Faz o computador escolher entra Pedra, Papel e Tesoura.\n",
        "\n",
        "        print('JO') # Uma simples frescura.\n",
        "        sleep(1)\n",
        "        print('KEN')\n",
        "        sleep(1)\n",
        "        print('PO!!!')\n",
        "        print('↔↔↔' * 10)\n",
        "        print('O computador jogou {}'.format(itens[computador])) # Mostra a escolha do computador.\n",
        "        print('O jogador jogou {}'.format(itens[jogador])) # Mostra a escolha do jogador.\n",
        "        print('↔↔↔' * 10) # Deixa afrescalhado.\n",
        "\n",
        "        if computador == 0: # Computador jogou Pedra...\n",
        "            if jogador == 0: # Se o jogador também jogar Pedra...\n",
        "                print('Empate') # Da empate.\n",
        "            elif jogador == 1:\n",
        "                vitorias += 1\n",
        "                print('Jogador Venceu')\n",
        "            elif jogador == 2:\n",
        "                print('Jogadaor Perdeu')\n",
        "                vitorias_computador += 1\n",
        "            else:\n",
        "                print('Jogada Inválida!')\n",
        "        elif computador == 1: # Computador jogou Papel.\n",
        "            if jogador == 0:\n",
        "                vitorias_computador += 1\n",
        "                print('Jogador Perdeu')\n",
        "            elif jogador == 1:\n",
        "                print('Empate')\n",
        "            elif jogador == 2:\n",
        "                vitorias += 1\n",
        "                print('Jogador Venceu')\n",
        "            else:\n",
        "                print('Jogada Inválida!')\n",
        "        elif computador == 2: # Computador jogou Tesoura.\n",
        "            if jogador == 0:\n",
        "                vitorias += 1\n",
        "                print('Jogador Venceu')\n",
        "            elif jogador == 1:\n",
        "                vitorias_computador += 1\n",
        "                print('Jogador Perdeu')\n",
        "            elif jogador == 2:\n",
        "                print('Empate')\n",
        "            else:\n",
        "                print('Jogada Inválida!')\n",
        "\n",
        "    if vitorias > vitorias_computador: # Se as vitórias do Jogador forem maiores que as do Computador, o Jogador vence.\n",
        "        print('-=-' * 18)\n",
        "        print(f'O jogador ganhou {vitorias} vezes, o computador ganhou {vitorias_computador} vezes.\\n O Campeão foi o Jogador 😁')\n",
        "        print('-=-' * 18)\n",
        "    elif vitorias_computador > vitorias: # Se as vitórias do Computador forem maiores que as do Jogador, o Computador vence.\n",
        "        print('-=-' * 18)\n",
        "        print(f'O jogador ganhou {vitorias} vezes, o computador ganhou {vitorias_computador} vezes.\\n O Campeão foi o Computador 💻')\n",
        "        print('-=-' * 18)\n",
        "    else:\n",
        "        print('-=-' * 18)\n",
        "        print(f'O jogador ganhou {vitorias} vezes, o computador ganhou {vitorias_computador} vezes.\\n Parece que deu Empate 🧐')\n",
        "        print('-=-' * 18)\n",
        "    tentar_denovo = str(input('Quer jogar novamente ? [S/N] ')).strip().lower()[0] # Pergunta se o jogador quer jogar denovo\n",
        "    if tentar_denovo == 'n': # Se a resposta for não...\n",
        "        break # Acaba com o While\n",
        "    "
      ],
      "execution_count": null,
      "outputs": []
    }
  ]
}